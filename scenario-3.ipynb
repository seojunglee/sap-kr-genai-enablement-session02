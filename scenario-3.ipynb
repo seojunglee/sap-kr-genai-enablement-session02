{
 "cells": [
  {
   "cell_type": "code",
   "execution_count": 1,
   "metadata": {},
   "outputs": [],
   "source": [
    "#load all necessary packages\n",
    "from gen_ai_hub.proxy.native.openai import embeddings\n",
    "from gen_ai_hub.proxy.native.openai import completions\n",
    "from  hdbcli import dbapi\n",
    "import pandas as pd\n",
    "import hana_ml.dataframe as dataframe\n",
    "import os\n",
    "import json"
   ]
  },
  {
   "cell_type": "code",
   "execution_count": 2,
   "metadata": {},
   "outputs": [],
   "source": [
    "with open(os.path.join(os.getcwd(), '/Users/sierra/Desktop/240905_enablement_session_prep/Assignment/Enablement-hands-on/secrets/HANACloudServiceKey.json')) as f:\n",
    "    hana_env_c = json.load(f)\n",
    "    port_c  = hana_env_c['port']\n",
    "    user_c  = hana_env_c['user']\n",
    "    url_c  = hana_env_c['url']\n",
    "    pwd_c  = hana_env_c['pwd']\n",
    "\n",
    "conn = dataframe.ConnectionContext(\n",
    "    address=url_c,  \n",
    "    port=443,\n",
    "    user=user_c,\n",
    "    password=pwd_c,\n",
    "    encrypt='true'\n",
    ")\n",
    "# Establish a second connection to the HANA Cloud database using dbapi.connect\n",
    "conn1 = dbapi.connect(\n",
    "    address=url_c, \n",
    "    port=443, \n",
    "    user=user_c, \n",
    "    password=pwd_c   \n",
    ")"
   ]
  },
  {
   "cell_type": "code",
   "execution_count": 3,
   "metadata": {},
   "outputs": [
    {
     "name": "stdout",
     "output_type": "stream",
     "text": [
      "                                  0  \\\n",
      "0  {\"doc_name\": \"customer283.json\"}   \n",
      "1  {\"doc_name\": \"customer295.json\"}   \n",
      "2  {\"doc_name\": \"customer331.json\"}   \n",
      "3  {\"doc_name\": \"customer297.json\"}   \n",
      "4  {\"doc_name\": \"customer350.json\"}   \n",
      "5  {\"doc_name\": \"customer320.json\"}   \n",
      "6  {\"doc_name\": \"customer349.json\"}   \n",
      "7  {\"doc_name\": \"customer305.json\"}   \n",
      "8  {\"doc_name\": \"customer258.json\"}   \n",
      "9  {\"doc_name\": \"customer258.json\"}   \n",
      "\n",
      "                                                   1         2  \\\n",
      "0  great taco's\\, nacho's\\, atmosphere and margar...  0.837133   \n",
      "1  Although there are countless little Mexican pl...  0.828023   \n",
      "2  In short\\, the food was decently good\\, but co...  0.818785   \n",
      "3  Found this place on Yelp. The reviews speak fo...  0.813769   \n",
      "4  We stopped at Tako due to the positive reviews...  0.810201   \n",
      "5  Our group of 6 decided to try something differ...  0.809492   \n",
      "6  Great food for the price. \\nTender steak and p...  0.807759   \n",
      "7  I was here a few times before and didn't revie...  0.804474   \n",
      "8  Super tasty and enormous portions. Some unique...  0.800837   \n",
      "9  Super tasty and enormous portions. Some unique...  0.800837   \n",
      "\n",
      "                                                   3  \n",
      "0                                Review:\\n\\nPositive  \n",
      "1                                review.\\n\\nPositive  \n",
      "2                                     '\\nWord: Mixed  \n",
      "3  review. It's called 'Reported Sentiment'. lite...  \n",
      "4               review.\\nThe sentiment is: Negative.  \n",
      "5  review, and give the emotional tone of: Positi...  \n",
      "6                                                     \n",
      "7  Review\\nPositive/Neutral/Negative\\nThe sentime...  \n",
      "8                                  review.\\nPositive  \n",
      "9                                    Answer: AMAZING  \n"
     ]
    }
   ],
   "source": [
    "prompt = \"What are the reviews about Tacos?\"\n",
    "res = embeddings.create(input=prompt, model=\"text-embedding-ada-002\")\n",
    "query_vector = res.data[0].embedding\n",
    "\n",
    "sql = '''SELECT TOP {k}  \"FILENAME\",\"TEXT\" , TO_NVARCHAR(\"VECTOR\") AS VECTOR_STR ,\"{metric}\"(\"VECTOR\", TO_REAL_VECTOR('{qv}')) as SCORING\n",
    "                  FROM \"GEN_AI\".\"REVIEWS_TARGET_SIERRA\"  \n",
    "                  ORDER BY \"{metric}\"(\"VECTOR\", TO_REAL_VECTOR('{qv}')) {sort}'''.format(k=10, metric=\"COSINE_SIMILARITY\",\n",
    "                                                                                        qv=query_vector, sort=\"DESC\")\n",
    "hdf = conn.sql(sql)\n",
    "res = hdf.head(10).collect() \n",
    "\n",
    "if not res.empty:\n",
    "    db_results = [(row['FILENAME'],row['TEXT'], row['SCORING']) for _, row in res.iterrows()]\n",
    "    new_results = []\n",
    "    for i in range(len(db_results)):\n",
    "        if i < len(db_results):\n",
    "            filename, text,  scoring = db_results[i]\n",
    "            sentiment_prompt = f\"Provide sentiment in exactly one word for the: '{text}'\"\n",
    "            sentiment_output = completions.create(model_name=\"meta--llama3-70b-instruct\", prompt=sentiment_prompt, max_tokens=60)\n",
    "            sentiment = sentiment_output.choices[0].text.strip()\n",
    "            new_tuple =  (filename,text, scoring, sentiment)\n",
    "            new_results.append(new_tuple) \n",
    "                   \n",
    "df_new_results = pd.DataFrame(new_results)\n",
    "print(df_new_results)"
   ]
  }
 ],
 "metadata": {
  "kernelspec": {
   "display_name": "btp-env-3",
   "language": "python",
   "name": "python3"
  },
  "language_info": {
   "codemirror_mode": {
    "name": "ipython",
    "version": 3
   },
   "file_extension": ".py",
   "mimetype": "text/x-python",
   "name": "python",
   "nbconvert_exporter": "python",
   "pygments_lexer": "ipython3",
   "version": "3.9.18"
  }
 },
 "nbformat": 4,
 "nbformat_minor": 2
}
