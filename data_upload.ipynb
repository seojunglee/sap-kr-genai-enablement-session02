{
 "cells": [
  {
   "cell_type": "code",
   "execution_count": 2,
   "metadata": {},
   "outputs": [],
   "source": [
    "import pandas as pd\n",
    "import json \n",
    "import os \n",
    "import hana_ml\n",
    "from hana_ml import ConnectionContext\n",
    "import hana_ml.dataframe as dataframe"
   ]
  },
  {
   "cell_type": "code",
   "execution_count": 16,
   "metadata": {},
   "outputs": [
    {
     "name": "stdout",
     "output_type": "stream",
     "text": [
      "Index(['FILENAME', 'TEXT'], dtype='object')\n"
     ]
    }
   ],
   "source": [
    "data = pd.read_csv('/Users/sierra/Desktop/240905_enablement_session_prep/Assignment/Enablement-hands-on/data/data.csv', on_bad_lines='skip')\n",
    "print(data.columns)"
   ]
  },
  {
   "cell_type": "markdown",
   "metadata": {},
   "source": [
    "### Create Table"
   ]
  },
  {
   "cell_type": "code",
   "execution_count": 4,
   "metadata": {},
   "outputs": [
    {
     "data": {
      "text/plain": [
       "True"
      ]
     },
     "execution_count": 4,
     "metadata": {},
     "output_type": "execute_result"
    }
   ],
   "source": [
    "with open(os.path.join(os.getcwd(), '/Users/sierra/Desktop/240905_enablement_session_prep/Assignment/Enablement-hands-on/secrets/HANACloudServiceKey.json')) as f:\n",
    "    hana_env_c = json.load(f)\n",
    "    port_c  = hana_env_c['port']\n",
    "    user_c  = hana_env_c['user']\n",
    "    url_c  = hana_env_c['url']\n",
    "    pwd_c  = hana_env_c['pwd']\n",
    "\n",
    "conn = dataframe.ConnectionContext(\n",
    "    address=url_c,  \n",
    "    port=443,\n",
    "    user=user_c,\n",
    "    password=pwd_c,\n",
    "    encrypt='true'\n",
    ")\n",
    "\n",
    "cursor = conn.connection.cursor()\n",
    "cursor.execute(\"\"\"SET SCHEMA GEN_AI\"\"\")"
   ]
  },
  {
   "cell_type": "code",
   "execution_count": 11,
   "metadata": {},
   "outputs": [
    {
     "data": {
      "text/plain": [
       "'GEN_AI'"
      ]
     },
     "execution_count": 11,
     "metadata": {},
     "output_type": "execute_result"
    }
   ],
   "source": [
    "conn.get_current_schema()"
   ]
  },
  {
   "cell_type": "code",
   "execution_count": 12,
   "metadata": {},
   "outputs": [],
   "source": [
    "SCHEMA_NAME = \"GEN_AI\"  \n",
    "TABLE_NAME  = \"CUSTOMER_REVIEWS_1K_SIERRA\" \n",
    "\n",
    "if not conn.has_table(table=TABLE_NAME, schema=SCHEMA_NAME):\n",
    "    conn.create_table(table=TABLE_NAME, schema=SCHEMA_NAME, table_structure={'FILENAME':'NVARCHAR(100)','TEXT':'NCLOB','VECTOR':'REAL_VECTOR(1536)'})"
   ]
  },
  {
   "cell_type": "code",
   "execution_count": 17,
   "metadata": {},
   "outputs": [
    {
     "name": "stderr",
     "output_type": "stream",
     "text": [
      "100%|██████████| 1/1 [00:00<00:00, 15.62it/s]\n"
     ]
    }
   ],
   "source": [
    "data2=data.copy()\n",
    "\n",
    "# import dataframe into hana table\n",
    "from hana_ml.dataframe import create_dataframe_from_pandas\n",
    "v_hdf = create_dataframe_from_pandas(\n",
    "    connection_context=conn,\n",
    "    pandas_df=data2, \n",
    "    table_name=\"CUSTOMER_REVIEWS_1K_SIERRA\", \n",
    "    allow_bigint=True, \n",
    "    append=True,\n",
    "    force=False)"
   ]
  },
  {
   "cell_type": "code",
   "execution_count": 18,
   "metadata": {},
   "outputs": [
    {
     "data": {
      "text/html": [
       "<div>\n",
       "<style scoped>\n",
       "    .dataframe tbody tr th:only-of-type {\n",
       "        vertical-align: middle;\n",
       "    }\n",
       "\n",
       "    .dataframe tbody tr th {\n",
       "        vertical-align: top;\n",
       "    }\n",
       "\n",
       "    .dataframe thead th {\n",
       "        text-align: right;\n",
       "    }\n",
       "</style>\n",
       "<table border=\"1\" class=\"dataframe\">\n",
       "  <thead>\n",
       "    <tr style=\"text-align: right;\">\n",
       "      <th></th>\n",
       "      <th>FILENAME</th>\n",
       "      <th>TEXT</th>\n",
       "    </tr>\n",
       "  </thead>\n",
       "  <tbody>\n",
       "    <tr>\n",
       "      <th>0</th>\n",
       "      <td>customer251.json</td>\n",
       "      <td>Absolutely wonderful food &amp; service! Go there ...</td>\n",
       "    </tr>\n",
       "    <tr>\n",
       "      <th>1</th>\n",
       "      <td>customer252.json</td>\n",
       "      <td>Pretty slow service and the waitresses aren't ...</td>\n",
       "    </tr>\n",
       "    <tr>\n",
       "      <th>2</th>\n",
       "      <td>customer253.json</td>\n",
       "      <td>I recently had the pre fixe meal for $22 and I...</td>\n",
       "    </tr>\n",
       "    <tr>\n",
       "      <th>3</th>\n",
       "      <td>customer254.json</td>\n",
       "      <td>It's no different than any other Chinese place...</td>\n",
       "    </tr>\n",
       "    <tr>\n",
       "      <th>4</th>\n",
       "      <td>customer255.json</td>\n",
       "      <td>Finally got to eat here last night. Eclectic f...</td>\n",
       "    </tr>\n",
       "  </tbody>\n",
       "</table>\n",
       "</div>"
      ],
      "text/plain": [
       "           FILENAME                                               TEXT\n",
       "0  customer251.json  Absolutely wonderful food & service! Go there ...\n",
       "1  customer252.json  Pretty slow service and the waitresses aren't ...\n",
       "2  customer253.json  I recently had the pre fixe meal for $22 and I...\n",
       "3  customer254.json  It's no different than any other Chinese place...\n",
       "4  customer255.json  Finally got to eat here last night. Eclectic f..."
      ]
     },
     "execution_count": 18,
     "metadata": {},
     "output_type": "execute_result"
    }
   ],
   "source": [
    "hdf = conn.sql('''SELECT TOP 10\n",
    "             \"FILENAME\",\n",
    "             \"TEXT\"\n",
    "             FROM CUSTOMER_REVIEWS_1K_SIERRA''')\n",
    "df_abstract = hdf.collect()\n",
    "df_abstract.head()"
   ]
  }
 ],
 "metadata": {
  "kernelspec": {
   "display_name": "btp-env",
   "language": "python",
   "name": "python3"
  },
  "language_info": {
   "codemirror_mode": {
    "name": "ipython",
    "version": 3
   },
   "file_extension": ".py",
   "mimetype": "text/x-python",
   "name": "python",
   "nbconvert_exporter": "python",
   "pygments_lexer": "ipython3",
   "version": "3.11.9"
  }
 },
 "nbformat": 4,
 "nbformat_minor": 2
}
